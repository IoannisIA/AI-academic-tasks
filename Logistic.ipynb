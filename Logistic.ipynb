{
 "cells": [
  {
   "cell_type": "markdown",
   "source": [
    "Import dataset and setting up. We choose some of the features and get over other that are not appropriate such as full date. We did not make too many classes because the tree was too big or the accuracy was too small."
   ],
   "metadata": {
    "collapsed": false
   }
  },
  {
   "cell_type": "code",
   "execution_count": 12,
   "outputs": [],
   "source": [
    "import pandas as pd\n",
    "df = pd.read_csv(\"data.csv\")"
   ],
   "metadata": {
    "collapsed": false,
    "pycharm": {
     "name": "#%%\n",
     "is_executing": false
    }
   }
  },
  {
   "cell_type": "markdown",
   "source": [
    "We select only one feature and set the target variable."
   ],
   "metadata": {
    "collapsed": false
   }
  },
  {
   "cell_type": "code",
   "execution_count": 13,
   "outputs": [],
   "source": [
    "X = df[['temp']]\n",
    "y = df['cnt']"
   ],
   "metadata": {
    "collapsed": false,
    "pycharm": {
     "name": "#%%\n",
     "is_executing": false
    }
   }
  },
  {
   "cell_type": "markdown",
   "source": [
    "Put the class values into 2 bins, to create 2 classes..."
   ],
   "metadata": {
    "collapsed": false
   }
  },
  {
   "cell_type": "code",
   "execution_count": 14,
   "outputs": [
    {
     "name": "stdout",
     "text": [
      "0    0\n",
      "1    0\n",
      "2    0\n",
      "3    0\n",
      "4    0\n",
      "Name: cnt, dtype: category\n",
      "Categories (2, object): [0 < 1]\n"
     ],
     "output_type": "stream"
    }
   ],
   "source": [
    "labels = [\"0\", \"1\"]\n",
    "y_categorical = pd.cut(y, 2, labels=labels)\n",
    "print(y_categorical.head())"
   ],
   "metadata": {
    "collapsed": false,
    "pycharm": {
     "name": "#%%\n",
     "is_executing": false
    }
   }
  },
  {
   "cell_type": "markdown",
   "source": [
    "Scikit-learn does not offer a way to get the loss for each epoch, but it is printed in stdout. So replace stdout with a new stream, that holds the output in a string, which we will process later to get the loss for each epoch...\n"
   ],
   "metadata": {
    "collapsed": false
   }
  },
  {
   "cell_type": "code",
   "execution_count": 15,
   "outputs": [],
   "source": [
    "import sys\n",
    "from io import StringIO\n",
    "\n",
    "old_stdout = sys.stdout\n",
    "\n",
    "sys.stdout = mystdout = StringIO()"
   ],
   "metadata": {
    "collapsed": false,
    "pycharm": {
     "name": "#%%\n",
     "is_executing": false
    }
   }
  },
  {
   "cell_type": "markdown",
   "source": [
    "We use only one example of our dataset"
   ],
   "metadata": {
    "collapsed": false,
    "pycharm": {
     "name": "#%% md\n"
    }
   }
  },
  {
   "cell_type": "code",
   "execution_count": 16,
   "outputs": [],
   "source": [
    "n = 1 ;# number of instances to keep\n",
    "fX = X[:n].values\n",
    "fy = y_categorical[:n].values\n",
    "\n"
   ],
   "metadata": {
    "collapsed": false,
    "pycharm": {
     "name": "#%%\n",
     "is_executing": false
    }
   }
  },
  {
   "cell_type": "markdown",
   "source": [
    "We are not going to use the linear regression package, we are going to use the stochastic gradient descent with suitable options, to get linear regression..."
   ],
   "metadata": {
    "collapsed": false
   }
  },
  {
   "cell_type": "code",
   "execution_count": 17,
   "outputs": [],
   "source": [
    "from sklearn.linear_model import SGDClassifier\n",
    "\n",
    "learning_rate = 2 #it is the best value to choose...\n",
    "\n",
    "\n",
    "sgd  = SGDClassifier(loss=\"squared_loss\", learning_rate='constant', eta0=learning_rate, penalty=None, max_iter=1,\n",
    "                     average=False, random_state=2018, verbose=1)\n",
    "sgd2 = SGDClassifier(loss=\"log\", learning_rate='constant', eta0=learning_rate, penalty=None, max_iter=1,\n",
    "                     average=False, random_state=2018, verbose=1)\n"
   ],
   "metadata": {
    "collapsed": false,
    "pycharm": {
     "name": "#%%\n",
     "is_executing": false
    }
   }
  },
  {
   "cell_type": "markdown",
   "source": [
    "As we need to calculate also $y-\\hat{y}$, we have put max_iter=1 to do only one step, and we will simulate the epochs with our loop, using partial_fit(), which does not re-initialise coefficients $\\overrightarrow{w}$, and proceeds with the current ones (stored in the model)."
   ],
   "metadata": {
    "collapsed": false
   }
  },
  {
   "cell_type": "code",
   "execution_count": 18,
   "outputs": [],
   "source": [
    "import numpy as np\n",
    "\n",
    "p_sum  = [] ;# this holds the sum of y-y_hat, for all instances (ok, we have only one instance)\n",
    "p2_sum = []\n",
    "epochs = 15 ;# number of epochs\n",
    "\n",
    "for epoch in range(epochs):\n",
    "    model = sgd.partial_fit(fX, fy, classes=labels)\n",
    "    model2 = sgd2.partial_fit(fX, fy, classes=labels)\n",
    "    y = model.predict(fX)\n",
    "    p = model.decision_function(fX)\n",
    "    c = (1 - np.mean(y == fy))\n",
    "    p_sum.append(p)\n",
    "    y2 = model2.predict(fX)\n",
    "    p2 = model2.decision_function(fX)\n",
    "    c2 = (1 - np.mean(y2 == fy))\n",
    "    p2_sum.append(p2)\n"
   ],
   "metadata": {
    "collapsed": false,
    "pycharm": {
     "name": "#%%\n",
     "is_executing": false
    }
   }
  },
  {
   "cell_type": "markdown",
   "source": [
    "Restore the original stdout, and collect the loss from the prints in array loss_list:\n"
   ],
   "metadata": {
    "collapsed": false
   }
  },
  {
   "cell_type": "code",
   "execution_count": 19,
   "outputs": [],
   "source": [
    "sys.stdout = old_stdout\n",
    "loss_history = mystdout.getvalue()\n",
    "loss_list  = []\n",
    "loss2_list = []\n",
    "use_first = True\n",
    "for line in loss_history.split('\\n'):\n",
    "    if(len(line.split(\"loss: \")) == 1):\n",
    "        continue\n",
    "    if use_first:\n",
    "        loss_list.append(float(line.split(\"loss: \")[-1]))\n",
    "    else:\n",
    "        loss2_list.append(float(line.split(\"loss: \")[-1]))\n",
    "    use_first = not use_first\n",
    "\n"
   ],
   "metadata": {
    "collapsed": false,
    "pycharm": {
     "name": "#%%\n",
     "is_executing": false
    }
   }
  },
  {
   "cell_type": "markdown",
   "source": [
    "Print the model coefficients:\n"
   ],
   "metadata": {
    "collapsed": false
   }
  },
  {
   "cell_type": "code",
   "execution_count": 20,
   "outputs": [
    {
     "name": "stdout",
     "text": [
      "[[-7.77531449]]\n",
      "[[-1.09013377]]\n"
     ],
     "output_type": "stream"
    }
   ],
   "source": [
    "print(model.coef_)\n",
    "print(model2.coef_)"
   ],
   "metadata": {
    "collapsed": false,
    "pycharm": {
     "name": "#%%\n",
     "is_executing": false
    }
   }
  },
  {
   "cell_type": "markdown",
   "source": [
    "Print the loss function over epochs."
   ],
   "metadata": {
    "collapsed": false
   }
  },
  {
   "cell_type": "code",
   "execution_count": 21,
   "outputs": [
    {
     "data": {
      "text/plain": "<Figure size 432x288 with 1 Axes>",
      "image/png": "[encoded data removed]"
     },
     "metadata": {
      "needs_background": "light"
     },
     "output_type": "display_data"
    },
    {
     "data": {
      "text/plain": "<Figure size 432x288 with 1 Axes>",
      "image/png": "[encoded data removed]"
     },
     "metadata": {
      "needs_background": "light"
     },
     "output_type": "display_data"
    }
   ],
   "source": [
    "import matplotlib.pyplot as plt\n",
    "\n",
    "plt.figure()\n",
    "plt.plot(np.arange(len(loss_list)), loss_list)\n",
    "plt.scatter(np.arange(len(loss_list)), loss_list)\n",
    "plt.xlabel(\"Time in epochs\")\n",
    "plt.ylabel(\"Loss\")\n",
    "plt.show()\n",
    "plt.figure()\n",
    "plt.plot(np.arange(len(loss2_list)), loss2_list)\n",
    "plt.scatter(np.arange(len(loss2_list)), loss2_list)\n",
    "plt.xlabel(\"Time in epochs\")\n",
    "plt.ylabel(\"Loss\")\n",
    "plt.show()\n",
    "\n"
   ],
   "metadata": {
    "collapsed": false,
    "pycharm": {
     "name": "#%%\n",
     "is_executing": false
    }
   }
  },
  {
   "cell_type": "markdown",
   "source": [
    "Print loss with respect to $y-\\hat{y}$"
   ],
   "metadata": {
    "collapsed": false
   }
  },
  {
   "cell_type": "code",
   "execution_count": 22,
   "outputs": [
    {
     "data": {
      "text/plain": "<Figure size 432x288 with 1 Axes>",
      "image/png": "[encoded data removed]"
     },
     "metadata": {
      "needs_background": "light"
     },
     "output_type": "display_data"
    },
    {
     "data": {
      "text/plain": "<Figure size 432x288 with 1 Axes>",
      "image/png": "[encoded data removed]"
     },
     "metadata": {
      "needs_background": "light"
     },
     "output_type": "display_data"
    }
   ],
   "source": [
    "plt.figure()\n",
    "plt.plot(p_sum, loss_list)\n",
    "plt.scatter(p_sum, loss_list)\n",
    "plt.scatter(p_sum[:1], loss_list[:1], color='red')\n",
    "plt.xlabel(\"$y-\\hat{y}$\")\n",
    "plt.ylabel(\"Loss\")\n",
    "plt.show()\n",
    "plt.figure()\n",
    "plt.plot(p2_sum, loss2_list)\n",
    "plt.scatter(p2_sum, loss2_list)\n",
    "plt.scatter(p2_sum[:1], loss2_list[:1], color='red')\n",
    "plt.xlabel(\"$y-\\hat{y}$\")\n",
    "plt.ylabel(\"Loss\")\n",
    "plt.show()\n"
   ],
   "metadata": {
    "collapsed": false,
    "pycharm": {
     "name": "#%%\n",
     "is_executing": false
    }
   }
  }
 ],
 "metadata": {
  "kernelspec": {
   "display_name": "Python 3",
   "language": "python",
   "name": "python3"
  },
  "language_info": {
   "codemirror_mode": {
    "name": "ipython",
    "version": 2
   },
   "file_extension": ".py",
   "mimetype": "text/x-python",
   "name": "python",
   "nbconvert_exporter": "python",
   "pygments_lexer": "ipython2",
   "version": "2.7.6"
  },
  "pycharm": {
   "stem_cell": {
    "cell_type": "raw",
    "source": [],
    "metadata": {
     "collapsed": false
    }
   }
  }
 },
 "nbformat": 4,
 "nbformat_minor": 0
}