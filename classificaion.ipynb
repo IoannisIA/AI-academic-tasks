{
 "cells": [
  {
   "cell_type": "markdown",
   "source": [
    "Import dataset and setting up. We choose some of the features and get over other that are not appropriate such as full date. We did not make too many classes because the tree was too big or the accuracy was too small."
   ],
   "metadata": {
    "collapsed": false
   }
  },
  {
   "cell_type": "code",
   "execution_count": 17,
   "outputs": [],
   "source": [
    "import pandas as pd\n",
    "data = pd.read_csv(\"data.csv\")\n",
    "\n",
    "features = ['season', 'yr', 'mnth', 'holiday', 'weekday', 'workingday', 'weathersit', 'temp', 'atemp', 'hum', 'windspeed']\n",
    "\n",
    "bins = [0, 2000, 3000, 4000, 8000, 9000]\n",
    "\n",
    "labels = ['ab', 'ac', 'ad', 'ae', 'af']\n",
    "\n",
    "df = pd.DataFrame(data=data)\n",
    "\n",
    "df['cnt'] = pd.cut(df.cnt, bins=bins, labels=labels)\n",
    "\n",
    "X = df[features].values\n",
    "\n",
    "y = df.cnt.values"
   ],
   "metadata": {
    "collapsed": false,
    "pycharm": {
     "name": "#%%\n",
     "is_executing": false
    }
   }
  },
  {
   "cell_type": "markdown",
   "source": [
    "Making kfolds in order to get a picture of how good is the model. \n",
    "We also keep the accuracy with the validation data"
   ],
   "metadata": {
    "collapsed": false
   }
  },
  {
   "cell_type": "code",
   "execution_count": 18,
   "outputs": [],
   "source": [
    "from sklearn.tree import DecisionTreeClassifier\n",
    "from sklearn.model_selection import KFold\n",
    "from sklearn import metrics\n",
    "kf = KFold(n_splits=20, shuffle=False, random_state=None)\n",
    "avg_acc_train = 0.0\n",
    "avg_acc = 0.0\n",
    "best_acc = 0.00\n",
    "best_clf = None\n",
    "for train_index, test_index in kf.split(X):\n",
    "    X_train, X_test = X[train_index], X[test_index]\n",
    "    y_train, y_test = y[train_index], y[test_index]\n",
    "    clf = DecisionTreeClassifier(max_depth=4)\n",
    "    clf = clf.fit(X_train, y_train)\n",
    "    y_pred = clf.predict(X_train)\n",
    "    acc_train = metrics.accuracy_score(y_train, y_pred)\n",
    "    y_pred = clf.predict(X_test)\n",
    "    acc_test = metrics.accuracy_score(y_test, y_pred)\n",
    "    avg_acc_train += acc_train / 20\n",
    "    avg_acc += acc_test / 20\n",
    "\n",
    "    if acc_test > best_acc:\n",
    "        best_clf = clf\n"
   ],
   "metadata": {
    "collapsed": false,
    "pycharm": {
     "name": "#%%\n",
     "is_executing": false
    }
   }
  },
  {
   "cell_type": "markdown",
   "source": [
    "We see the accuracy of the model and also plot the tree"
   ],
   "metadata": {
    "collapsed": false
   }
  },
  {
   "cell_type": "code",
   "execution_count": 20,
   "outputs": [
    {
     "name": "stdout",
     "text": [
      "0.5555555555555556\n"
     ],
     "output_type": "stream"
    },
    {
     "data": {
      "text/plain": "<Figure size 432x288 with 1 Axes>",
      "image/png": "[encoded data removed]"
     },
     "metadata": {
      "needs_background": "light"
     },
     "output_type": "display_data"
    }
   ],
   "source": [
    "from subprocess import call\n",
    "from sklearn.tree import export_graphviz\n",
    "import matplotlib.pyplot as plt\n",
    "import matplotlib.image as mpimg\n",
    "\n",
    "print(acc_test)\n",
    "\n",
    "export_graphviz(best_clf, 'tree.dot', filled=True, rounded=True, special_characters=True, feature_names=features, class_names=labels)\n",
    "\n",
    "call(['dot', '-Tpng', 'tree.dot', '-o', 'tree.png', '-Gdpi=600'])\n",
    "\n",
    "img=mpimg.imread('tree.png')\n",
    "imgplot = plt.imshow(img)\n",
    "plt.show()\n",
    "\n"
   ],
   "metadata": {
    "collapsed": false,
    "pycharm": {
     "name": "#%%\n",
     "is_executing": false
    }
   }
  }
 ],
 "metadata": {
  "kernelspec": {
   "display_name": "Python 3",
   "language": "python",
   "name": "python3"
  },
  "language_info": {
   "codemirror_mode": {
    "name": "ipython",
    "version": 2
   },
   "file_extension": ".py",
   "mimetype": "text/x-python",
   "name": "python",
   "nbconvert_exporter": "python",
   "pygments_lexer": "ipython2",
   "version": "2.7.6"
  },
  "pycharm": {
   "stem_cell": {
    "cell_type": "raw",
    "source": [],
    "metadata": {
     "collapsed": false
    }
   }
  }
 },
 "nbformat": 4,
 "nbformat_minor": 0
}