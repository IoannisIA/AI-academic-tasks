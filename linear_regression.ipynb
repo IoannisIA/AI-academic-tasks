{
 "cells": [
  {
   "cell_type": "markdown",
   "metadata": {
    "collapsed": true,
    "pycharm": {
     "name": "#%% md\n"
    }
   },
   "source": [
    "Import dataset and setting up. We choose some of the features and get over other that are not appropriate such as full date. We did not make too many classes because the tree was too big or the accuracy was too small."
   ]
  },
  {
   "cell_type": "code",
   "execution_count": 11,
   "outputs": [],
   "source": [
    "import pandas as pd\n",
    "df = pd.read_csv(\"data.csv\")"
   ],
   "metadata": {
    "collapsed": false,
    "pycharm": {
     "name": "#%%\n",
     "is_executing": false
    }
   }
  },
  {
   "cell_type": "markdown",
   "source": [
    "We select only one feature and set the target variable."
   ],
   "metadata": {
    "collapsed": false
   }
  },
  {
   "cell_type": "code",
   "execution_count": 12,
   "outputs": [],
   "source": [
    "X = df[['temp']]\n",
    "y = df['cnt']"
   ],
   "metadata": {
    "collapsed": false,
    "pycharm": {
     "name": "#%%\n",
     "is_executing": false
    }
   }
  },
  {
   "cell_type": "markdown",
   "source": [
    "Scikit-learn does not offer a way to get the loss for each epoch, but it is printed in stdout. So replace stdout with a new stream, that holds the output in a string, which we will process later to get the loss for each epoch...\n"
   ],
   "metadata": {
    "collapsed": false
   }
  },
  {
   "cell_type": "code",
   "execution_count": 13,
   "outputs": [
    {
     "name": "stdout",
     "text": [
      "-- Epoch 1\n",
      "Norm: 678.01, NNZs: 1, Bias: 1970.000000, T: 1, Avg. loss: 485112.500000\n",
      "Total training time: 0.00 seconds.\n",
      "-- Epoch 1\n",
      "Norm: 160.62, NNZs: 1, Bias: -466.696640, T: 1, Avg. loss: 742186.314498\n",
      "Total training time: 0.00 seconds.\n",
      "-- Epoch 1\n",
      "Norm: 876.68, NNZs: 1, Bias: 2547.257937, T: 1, Avg. loss: 1135490.273758\n",
      "Total training time: 0.00 seconds.\n",
      "-- Epoch 1\n",
      "Norm: 406.36, NNZs: 1, Bias: -1180.708048, T: 1, Avg. loss: 1737216.298134\n",
      "Total training time: 0.00 seconds.\n",
      "-- Epoch 1\n",
      "Norm: 1180.64, NNZs: 1, Bias: 3430.419967, T: 1, Avg. loss: 2657812.696639\n",
      "Total training time: 0.00 seconds.\n",
      "-- Epoch 1\n",
      "Norm: 782.32, NNZs: 1, Bias: -2273.092796, T: 1, Avg. loss: 4066257.228880\n",
      "Total training time: 0.00 seconds.\n",
      "-- Epoch 1\n",
      "Norm: 1645.67, NNZs: 1, Bias: 4781.592679, T: 1, Avg. loss: 6221073.393293\n",
      "Total training time: 0.00 seconds.\n",
      "-- Epoch 1\n",
      "Norm: 1357.52, NNZs: 1, Bias: -3944.360820, T: 1, Avg. loss: 9517783.058550\n",
      "Total training time: 0.00 seconds.\n",
      "-- Epoch 1\n",
      "Norm: 2357.13, NNZs: 1, Bias: 6848.787187, T: 1, Avg. loss: 14561505.486703\n",
      "Total training time: 0.00 seconds.\n",
      "-- Epoch 1\n",
      "Norm: 2237.53, NNZs: 1, Bias: -6501.277526, T: 1, Avg. loss: 22278028.479415\n",
      "Total training time: 0.00 seconds.\n",
      "-- Epoch 1\n",
      "Norm: 3445.61, NNZs: 1, Bias: 10011.442185, T: 1, Avg. loss: 34083739.032536\n",
      "Total training time: 0.00 seconds.\n",
      "-- Epoch 1\n",
      "Norm: 3583.87, NNZs: 1, Bias: -10413.171338, T: 1, Avg. loss: 52145604.693498\n",
      "Total training time: 0.00 seconds.\n",
      "-- Epoch 1\n",
      "Norm: 5110.90, NNZs: 1, Bias: 14850.070869, T: 1, Avg. loss: 79778925.846568\n",
      "Total training time: 0.00 seconds.\n",
      "-- Epoch 1\n",
      "Norm: 5643.68, NNZs: 1, Bias: -16398.080097, T: 1, Avg. loss: 122055867.347645\n",
      "Total training time: 0.00 seconds.\n",
      "-- Epoch 1\n",
      "Norm: 7658.68, NNZs: 1, Bias: 22252.815572, T: 1, Avg. loss: 186736467.004296\n",
      "Total training time: 0.00 seconds.\n",
      "\n"
     ],
     "output_type": "stream"
    }
   ],
   "source": [
    "import sys\n",
    "from io import StringIO\n",
    "\n",
    "old_stdout = sys.stdout\n",
    "\n",
    "sys.stdout = mystdout = StringIO()"
   ],
   "metadata": {
    "collapsed": false,
    "pycharm": {
     "name": "#%%\n",
     "is_executing": false
    }
   }
  },
  {
   "cell_type": "markdown",
   "source": [
    "We use only one example of our dataset"
   ],
   "metadata": {
    "collapsed": false
   }
  },
  {
   "cell_type": "code",
   "execution_count": 14,
   "outputs": [],
   "source": [
    "n = 1 ;# number of instances to keep\n",
    "fX = X[:n].values\n",
    "fy = y[:n].values"
   ],
   "metadata": {
    "collapsed": false,
    "pycharm": {
     "name": "#%%\n",
     "is_executing": false
    }
   }
  },
  {
   "cell_type": "markdown",
   "source": [
    "We use are setting the regression model\n"
   ],
   "metadata": {
    "collapsed": false
   }
  },
  {
   "cell_type": "code",
   "execution_count": 15,
   "outputs": [],
   "source": [
    "from sklearn.linear_model import SGDRegressor\n",
    "learning_rate = 2\n",
    "sgd = SGDRegressor(loss=\"squared_loss\", learning_rate='constant', eta0=learning_rate, penalty=None, max_iter=1,\n",
    "                   average=False, random_state=2018, verbose=1)"
   ],
   "metadata": {
    "collapsed": false,
    "pycharm": {
     "name": "#%%\n",
     "is_executing": false
    }
   }
  },
  {
   "cell_type": "markdown",
   "source": [
    "As we need to calculate also $y-\\hat{y}$, we have put max_iter=1 to do only one step, and we will simulate the epochs with our loop, using partial_fit(), which does not re-initialise coefficients $\\overrightarrow{w}$, and proceeds with the current ones (stored in the model)."
   ],
   "metadata": {
    "collapsed": false
   }
  },
  {
   "cell_type": "code",
   "execution_count": 16,
   "outputs": [],
   "source": [
    "import numpy as np\n",
    "\n",
    "p_sum = [] ;# this holds the sum of y-y_hat, for all instances (ok, we habe only one instance)\n",
    "epochs = 15 ;# number of epochs\n",
    "\n",
    "for epoch in range(epochs):\n",
    "    model = sgd.partial_fit(fX, fy)\n",
    "    y = model.predict(fX)\n",
    "    p_sum.append(np.sum(fy-y))"
   ],
   "metadata": {
    "collapsed": false,
    "pycharm": {
     "name": "#%%\n",
     "is_executing": false
    }
   }
  },
  {
   "cell_type": "markdown",
   "source": [
    "Restore the original stdout, and collect the loss from the prints in array loss_list:"
   ],
   "metadata": {
    "collapsed": false
   }
  },
  {
   "cell_type": "code",
   "execution_count": 17,
   "outputs": [],
   "source": [
    "sys.stdout = old_stdout\n",
    "loss_history = mystdout.getvalue()\n",
    "print(loss_history)\n",
    "loss_list = []\n",
    "for line in loss_history.split('\\n'):\n",
    "    if(len(line.split(\"loss: \")) == 1):\n",
    "        continue\n",
    "    loss_list.append(float(line.split(\"loss: \")[-1]))"
   ],
   "metadata": {
    "collapsed": false,
    "pycharm": {
     "name": "#%%\n",
     "is_executing": false
    }
   }
  },
  {
   "cell_type": "markdown",
   "source": [
    "Print the model coefficients:"
   ],
   "metadata": {
    "collapsed": false
   }
  },
  {
   "cell_type": "code",
   "execution_count": 18,
   "outputs": [
    {
     "name": "stdout",
     "text": [
      "[7658.68477701]\n"
     ],
     "output_type": "stream"
    }
   ],
   "source": [
    "print(model.coef_)"
   ],
   "metadata": {
    "collapsed": false,
    "pycharm": {
     "name": "#%%\n",
     "is_executing": false
    }
   }
  },
  {
   "cell_type": "markdown",
   "source": [
    "Print the loss function over epochs:"
   ],
   "metadata": {
    "collapsed": false
   }
  },
  {
   "cell_type": "code",
   "execution_count": 19,
   "outputs": [
    {
     "data": {
      "text/plain": "<Figure size 432x288 with 1 Axes>",
      "image/png": "[encoded data removed]"
     },
     "metadata": {
      "needs_background": "light"
     },
     "output_type": "display_data"
    }
   ],
   "source": [
    "import matplotlib.pyplot as plt\n",
    "\n",
    "plt.figure()\n",
    "plt.plot(np.arange(len(loss_list)), loss_list)\n",
    "plt.scatter(np.arange(len(loss_list)), loss_list)\n",
    "plt.xlabel(\"Time in epochs\")\n",
    "plt.ylabel(\"Loss\")\n",
    "plt.show()"
   ],
   "metadata": {
    "collapsed": false,
    "pycharm": {
     "name": "#%%\n",
     "is_executing": false
    }
   }
  },
  {
   "cell_type": "markdown",
   "source": [
    "Print loss with respect to $y-\\hat{y}$"
   ],
   "metadata": {
    "collapsed": false
   }
  },
  {
   "cell_type": "code",
   "execution_count": 20,
   "outputs": [
    {
     "data": {
      "text/plain": "<Figure size 432x288 with 1 Axes>",
      "image/png": "[encoded data removed]"
     },
     "metadata": {
      "needs_background": "light"
     },
     "output_type": "display_data"
    }
   ],
   "source": [
    "plt.figure()\n",
    "plt.plot(p_sum, loss_list)\n",
    "plt.scatter(p_sum, loss_list)\n",
    "plt.scatter(p_sum[:1], loss_list[:1], color='red')\n",
    "plt.xlabel(\"$y-\\hat{y}$\")\n",
    "plt.ylabel(\"Loss\")\n",
    "plt.show()"
   ],
   "metadata": {
    "collapsed": false,
    "pycharm": {
     "name": "#%%\n",
     "is_executing": false
    }
   }
  }
 ],
 "metadata": {
  "kernelspec": {
   "display_name": "Python 3",
   "language": "python",
   "name": "python3"
  },
  "language_info": {
   "codemirror_mode": {
    "name": "ipython",
    "version": 2
   },
   "file_extension": ".py",
   "mimetype": "text/x-python",
   "name": "python",
   "nbconvert_exporter": "python",
   "pygments_lexer": "ipython2",
   "version": "2.7.6"
  },
  "pycharm": {
   "stem_cell": {
    "cell_type": "raw",
    "source": [],
    "metadata": {
     "collapsed": false
    }
   }
  }
 },
 "nbformat": 4,
 "nbformat_minor": 0
}