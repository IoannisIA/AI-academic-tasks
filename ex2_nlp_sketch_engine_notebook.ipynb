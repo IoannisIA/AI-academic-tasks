{
 "cells": [
  {
   "cell_type": "markdown",
   "source": [
    "Setting up the account, request parameters and importing some libs"
   ],
   "metadata": {
    "collapsed": false
   }
  },
  {
   "cell_type": "code",
   "execution_count": 1,
   "outputs": [],
   "source": [
    "import requests\n",
    "base_url = 'https://api.sketchengine.eu/bonito/run.cgi'\n",
    "data = {\n",
    " 'corpname': 'preloaded/brexit_1', # the corpus to be loaded\n",
    " 'format': 'json', # return results in JSON format\n",
    " # get your API key here: https://app.sketchengine.eu/ in My account\n",
    " 'username': 'ia', # your registered username here\n",
    " 'api_key': '128ee29cbe3a4d55ad7021154c52122a' # the API key created\n",
    "}\n"
   ],
   "metadata": {
    "collapsed": false,
    "pycharm": {
     "name": "#%%\n",
     "is_executing": false
    }
   }
  },
  {
   "cell_type": "markdown",
   "source": [
    "You need to find the modal verbs present in the Brexit corpus and return a list of key-value\n",
    "pairs where the key will be a modal verb and the value will be the frequency of this modal verb\n",
    "in the Brexit corpus.\n"
   ],
   "metadata": {
    "collapsed": false
   }
  },
  {
   "cell_type": "code",
   "execution_count": 2,
   "outputs": [
    {
     "name": "stdout",
     "text": [
      "can 352823\n",
      "may 107654\n",
      "must 77217\n",
      "shall 10373\n",
      "will 465960\n",
      "could 237035\n",
      "might 39497\n",
      "should 61339\n",
      "would 572880\n"
     ],
     "output_type": "stream"
    }
   ],
   "source": [
    "\n",
    "for item in ['can', 'may', 'must', 'shall', 'will', 'could', 'might', 'should', 'would']:\n",
    " data['q'] = 'q[lemma=\"' + item + '\"]'\n",
    " data['fcrit'] = 'word/ 0 lemma/ 0 tag/ 0'\n",
    " d = requests.get(base_url + '/freqs', params=data).json()\n",
    " print(item, d['Blocks'][0]['totalfrq'])\n",
    "\n"
   ],
   "metadata": {
    "collapsed": false,
    "pycharm": {
     "name": "#%%\n",
     "is_executing": false
    }
   }
  },
  {
   "cell_type": "markdown",
   "source": [
    "bring the nouns and verbs modified by “brexit” along with freq and LogDice values\n",
    "for each noun or verb:\n",
    "\n",
    "    calculate the most frequent noun or verb modified by brexit\n",
    "    calculate the strongest noun or verb modified by brexit in terms of LogDice value"
   ],
   "metadata": {
    "collapsed": false
   }
  },
  {
   "cell_type": "code",
   "execution_count": 3,
   "outputs": [
    {
     "name": "stdout",
     "text": [
      "{'vote': 10325, 'referendum': 8563, 'camp': 4937, 'movement': 3875, 'dividend': 2636, 'campaign': 7652, 'britain': 2792, 'wing': 1870, 'barnes': 2014, 'tide': 1619, 'fear': 1771, 'campaigner': 1123, 'cake': 1080, 'debate': 2040, 'supporter': 979, 'poll': 1495, 'crash': 585, 'churchill': 610, 'coverage': 597, 'hit': 484, 'panel': 585, 'threat': 499, 'risk': 425, 'hero': 349, 'doom': 342}\n{'vote': 10.79, 'referendum': 10.43, 'camp': 10.24, 'movement': 10.03, 'dividend': 9.89, 'campaign': 9.75, 'britain': 9.63, 'wing': 9.44, 'barnes': 9.42, 'tide': 9.24, 'fear': 8.91, 'campaigner': 8.67, 'cake': 8.67, 'debate': 8.62, 'supporter': 8.47, 'poll': 7.92, 'crash': 7.76, 'churchill': 7.67, 'coverage': 7.62, 'hit': 7.5, 'panel': 7.48, 'threat': 7.33, 'risk': 7.26, 'hero': 7.04, 'doom': 7.02}\n['vote'] 10325\n['vote'] 10.79\n"
     ],
     "output_type": "stream"
    }
   ],
   "source": [
    "\n",
    "freq={}\n",
    "logdice={}\n",
    "data['lemma'] = 'brexit'\n",
    "d = requests.get(base_url + '/wsketch', params=data).json()\n",
    "for i in d['Gramrels'][1]['Words']:\n",
    "    freq[i['word']] = i['count']\n",
    "    logdice[i['word']] = i['score']\n",
    "\n",
    "\n",
    "print(freq)\n",
    "print(logdice)\n",
    "\n",
    "max_value = max(freq.values())\n",
    "max_keys = [k for k, v in freq.items() if v == max_value] # getting all keys containing the `maximum`\n",
    "\n",
    "print(max_keys, max_value)\n",
    "\n",
    "max_value = max(logdice.values())\n",
    "max_keys = [k for k, v in logdice.items() if v == max_value] # getting all keys containing the `maximum`\n",
    "\n",
    "print(max_keys, max_value)\n"
   ],
   "metadata": {
    "collapsed": false,
    "pycharm": {
     "name": "#%%\n",
     "is_executing": false
    }
   }
  },
  {
   "cell_type": "markdown",
   "source": [
    "\n",
    "bring the verbs with “brexit” as object along with freq and LogDice values:\n",
    "    calculate the most frequent verb with brexit as object\n",
    "    calculate the strongest LogDice for a verb with brexit as object"
   ],
   "metadata": {
    "collapsed": false
   }
  },
  {
   "cell_type": "code",
   "execution_count": 4,
   "outputs": [
    {
     "name": "stdout",
     "text": [
      "{'say': 22190, 'back': 3089, 'vote': 1442, 'warn': 1225, 'anticipate': 901, 'support': 1005, 'spell': 427, 'think': 457, 'weather': 285, 'want': 325, 'choose': 412, 'follow': 283, 'understand': 201, 'avoid': 152, 'stop': 169, 'admit': 131, 'reject': 128, 'fear': 141, 'let': 127, 'survive': 134, 'price': 105, 'talk': 96, 'endorse': 95, 'claim': 95, 'oppose': 92}\n{'say': 11.7, 'back': 10.34, 'vote': 9.89, 'warn': 9.84, 'anticipate': 9.51, 'support': 9.34, 'spell': 8.45, 'think': 8.3, 'weather': 7.87, 'want': 7.4, 'choose': 7.32, 'follow': 7.29, 'understand': 7.15, 'avoid': 6.93, 'stop': 6.88, 'admit': 6.67, 'reject': 6.67, 'fear': 6.65, 'let': 6.63, 'survive': 6.44, 'price': 6.43, 'talk': 6.28, 'endorse': 6.27, 'claim': 6.22, 'oppose': 6.15}\n['say'] 22190\n['say'] 11.7\n"
     ],
     "output_type": "stream"
    }
   ],
   "source": [
    "\n",
    "freq={}\n",
    "logdice={}\n",
    "data['lemma'] = 'brexit'\n",
    "d = requests.get(base_url + '/wsketch', params=data).json()\n",
    "for i in d['Gramrels'][2]['Words']:\n",
    "    freq[i['word']] = i['count']\n",
    "    logdice[i['word']] = i['score']\n",
    "\n",
    "\n",
    "print(freq)\n",
    "print(logdice)\n",
    "\n",
    "max_value = max(freq.values())\n",
    "max_keys = [k for k, v in freq.items() if v == max_value] # getting all keys containing the `maximum`\n",
    "\n",
    "print(max_keys, max_value)\n",
    "\n",
    "max_value = max(logdice.values())\n",
    "max_keys = [k for k, v in logdice.items() if v == max_value] # getting all keys containing the `maximum`\n",
    "\n",
    "print(max_keys, max_value)\n",
    "\n"
   ],
   "metadata": {
    "collapsed": false,
    "pycharm": {
     "name": "#%%\n",
     "is_executing": false
    }
   }
  }
 ],
 "metadata": {
  "kernelspec": {
   "display_name": "Python 3",
   "language": "python",
   "name": "python3"
  },
  "language_info": {
   "codemirror_mode": {
    "name": "ipython",
    "version": 2
   },
   "file_extension": ".py",
   "mimetype": "text/x-python",
   "name": "python",
   "nbconvert_exporter": "python",
   "pygments_lexer": "ipython2",
   "version": "2.7.6"
  },
  "pycharm": {
   "stem_cell": {
    "cell_type": "raw",
    "source": [],
    "metadata": {
     "collapsed": false
    }
   }
  }
 },
 "nbformat": 4,
 "nbformat_minor": 0
}